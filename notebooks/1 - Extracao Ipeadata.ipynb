{
 "cells": [
  {
   "cell_type": "markdown",
   "metadata": {},
   "source": [
    "# Bibliotecas e Busca de Dados"
   ]
  },
  {
   "cell_type": "code",
   "execution_count": 1,
   "metadata": {},
   "outputs": [],
   "source": [
    "# !pip install bs4"
   ]
  },
  {
   "cell_type": "code",
   "execution_count": 58,
   "metadata": {},
   "outputs": [],
   "source": [
    "import requests\n",
    "from bs4 import BeautifulSoup\n",
    "import json\n",
    "import pickle"
   ]
  },
  {
   "cell_type": "code",
   "execution_count": 21,
   "metadata": {},
   "outputs": [],
   "source": [
    "# Busca Metadados para procurar qual o CÓDIGO do IGP-M\n",
    "# response = requests.get('http://www.ipeadata.gov.br/api/odata4/Metadados')\n",
    "# json_cod =json.loads(str(response.text))"
   ]
  },
  {
   "cell_type": "code",
   "execution_count": 24,
   "metadata": {},
   "outputs": [],
   "source": [
    "# Busca pelo igpm (descoberto o código)\n",
    "req_igpm = requests.get(\"http://www.ipeadata.gov.br/api/odata4/Metadados('IGP12_IGPMG12')/Valores\")\n",
    "igpm=json.loads(str(req_igpm.text))"
   ]
  },
  {
   "cell_type": "code",
   "execution_count": 55,
   "metadata": {},
   "outputs": [],
   "source": [
    "# Parse da série\n",
    "def parse(serie):\n",
    "    resposta = {}\n",
    "    for i in serie:\n",
    "        resposta[i['VALDATA'][:10]] = i['VALVALOR']\n",
    "    return resposta\n",
    "\n",
    "igpm_dict = parse(igpm['value'])"
   ]
  },
  {
   "cell_type": "code",
   "execution_count": 56,
   "metadata": {},
   "outputs": [],
   "source": [
    "# Filtra anos\n",
    "def year_filter(year):\n",
    "    criterio1 = int(year[0][:4]) >= 2007\n",
    "    criterio2 = int(year[0][:4]) <= 2020\n",
    "    if(criterio1 and criterio2):\n",
    "        return True\n",
    "    else:\n",
    "        return False\n",
    "\n",
    "igpm_dict_filtered = dict(filter(year_filter, igpm_dict.items()))"
   ]
  },
  {
   "cell_type": "markdown",
   "metadata": {},
   "source": [
    "## Salva os Dados"
   ]
  },
  {
   "cell_type": "code",
   "execution_count": 59,
   "metadata": {},
   "outputs": [],
   "source": [
    "with open('../dados/igpm.p', 'wb') as handle:\n",
    "    pickle.dump(igpm_dict_filtered, handle, protocol=pickle.HIGHEST_PROTOCOL)"
   ]
  }
 ],
 "metadata": {
  "kernelspec": {
   "display_name": "Python 3",
   "language": "python",
   "name": "python3"
  },
  "language_info": {
   "codemirror_mode": {
    "name": "ipython",
    "version": 3
   },
   "file_extension": ".py",
   "mimetype": "text/x-python",
   "name": "python",
   "nbconvert_exporter": "python",
   "pygments_lexer": "ipython3",
   "version": "3.8.5"
  }
 },
 "nbformat": 4,
 "nbformat_minor": 4
}
