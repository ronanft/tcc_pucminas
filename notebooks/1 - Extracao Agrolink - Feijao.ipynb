{
 "cells": [
  {
   "cell_type": "markdown",
   "metadata": {},
   "source": [
    "# Bibliotecas e Busca de Dados"
   ]
  },
  {
   "cell_type": "code",
   "execution_count": 1,
   "metadata": {},
   "outputs": [],
   "source": [
    "# !pip install bs4"
   ]
  },
  {
   "cell_type": "code",
   "execution_count": 2,
   "metadata": {},
   "outputs": [],
   "source": [
    "import requests\n",
    "import pandas as pd\n",
    "import numpy as np\n",
    "from bs4 import BeautifulSoup"
   ]
  },
  {
   "cell_type": "code",
   "execution_count": 3,
   "metadata": {},
   "outputs": [],
   "source": [
    "# Busca dados\n",
    "page = requests.get('https://www.agrolink.com.br/cotacoes/historico/sp/feijao-carioca-sc-60kg')\n",
    "soup = BeautifulSoup(page.text, 'html.parser')"
   ]
  },
  {
   "cell_type": "markdown",
   "metadata": {},
   "source": [
    "## Transforma Dados"
   ]
  },
  {
   "cell_type": "code",
   "execution_count": 4,
   "metadata": {},
   "outputs": [],
   "source": [
    "# Cabeçalho da tabela\n",
    "head = soup.table.find_all('th')\n",
    "header = [t.getText() for t in head]"
   ]
  },
  {
   "cell_type": "code",
   "execution_count": 5,
   "metadata": {},
   "outputs": [],
   "source": [
    "# Dados da Tabela\n",
    "dados = soup.table.find_all('td')\n",
    "dados = [d.getText() for d in dados]\n",
    "arr_dados = np.array(dados).reshape(-1,3)"
   ]
  },
  {
   "cell_type": "code",
   "execution_count": 6,
   "metadata": {},
   "outputs": [],
   "source": [
    "# Transforma em Dataframe\n",
    "df_dados = pd.DataFrame(arr_dados, columns=header)\n",
    "df_dados.columns = [c.lower() for c in df_dados.columns]\n",
    "df_dados = df_dados.set_index('mês/ano')\n",
    "df_dados.index = pd.to_datetime(df_dados.index, format='%m/%Y')\n",
    "df_dados = df_dados.sort_index(ascending=True)\n",
    "df_dados = df_dados.applymap(lambda x: float(x.replace(',','.')))"
   ]
  },
  {
   "cell_type": "markdown",
   "metadata": {},
   "source": [
    "## Trata Missing Values"
   ]
  },
  {
   "cell_type": "code",
   "execution_count": 9,
   "metadata": {},
   "outputs": [
    {
     "data": {
      "text/plain": [
       "DatetimeIndex(['2008-03-01'], dtype='datetime64[ns]', name='mês/ano', freq=None)"
      ]
     },
     "execution_count": 9,
     "metadata": {},
     "output_type": "execute_result"
    }
   ],
   "source": [
    "# Falta um mês na tabela obtida (missing value)\n",
    "lack = df_dados.resample('MS').first()\n",
    "lack.index.difference(df_dados.index)"
   ]
  },
  {
   "cell_type": "code",
   "execution_count": 10,
   "metadata": {},
   "outputs": [
    {
     "data": {
      "text/html": [
       "<div>\n",
       "<style scoped>\n",
       "    .dataframe tbody tr th:only-of-type {\n",
       "        vertical-align: middle;\n",
       "    }\n",
       "\n",
       "    .dataframe tbody tr th {\n",
       "        vertical-align: top;\n",
       "    }\n",
       "\n",
       "    .dataframe thead th {\n",
       "        text-align: right;\n",
       "    }\n",
       "</style>\n",
       "<table border=\"1\" class=\"dataframe\">\n",
       "  <thead>\n",
       "    <tr style=\"text-align: right;\">\n",
       "      <th></th>\n",
       "      <th>estadual</th>\n",
       "      <th>nacional</th>\n",
       "    </tr>\n",
       "    <tr>\n",
       "      <th>mês/ano</th>\n",
       "      <th></th>\n",
       "      <th></th>\n",
       "    </tr>\n",
       "  </thead>\n",
       "  <tbody>\n",
       "    <tr>\n",
       "      <th>2008-01-01</th>\n",
       "      <td>208.3720</td>\n",
       "      <td>217.0125</td>\n",
       "    </tr>\n",
       "    <tr>\n",
       "      <th>2008-02-01</th>\n",
       "      <td>227.0000</td>\n",
       "      <td>195.1401</td>\n",
       "    </tr>\n",
       "    <tr>\n",
       "      <th>2008-03-01</th>\n",
       "      <td>NaN</td>\n",
       "      <td>NaN</td>\n",
       "    </tr>\n",
       "    <tr>\n",
       "      <th>2008-04-01</th>\n",
       "      <td>141.6666</td>\n",
       "      <td>136.3181</td>\n",
       "    </tr>\n",
       "    <tr>\n",
       "      <th>2008-05-01</th>\n",
       "      <td>128.8750</td>\n",
       "      <td>123.9477</td>\n",
       "    </tr>\n",
       "    <tr>\n",
       "      <th>2008-06-01</th>\n",
       "      <td>132.5000</td>\n",
       "      <td>165.1045</td>\n",
       "    </tr>\n",
       "    <tr>\n",
       "      <th>2008-07-01</th>\n",
       "      <td>135.3260</td>\n",
       "      <td>151.0311</td>\n",
       "    </tr>\n",
       "    <tr>\n",
       "      <th>2008-08-01</th>\n",
       "      <td>159.5238</td>\n",
       "      <td>143.4250</td>\n",
       "    </tr>\n",
       "    <tr>\n",
       "      <th>2008-09-01</th>\n",
       "      <td>174.7727</td>\n",
       "      <td>155.7525</td>\n",
       "    </tr>\n",
       "    <tr>\n",
       "      <th>2008-10-01</th>\n",
       "      <td>167.0000</td>\n",
       "      <td>160.6862</td>\n",
       "    </tr>\n",
       "    <tr>\n",
       "      <th>2008-11-01</th>\n",
       "      <td>92.2115</td>\n",
       "      <td>103.6513</td>\n",
       "    </tr>\n",
       "    <tr>\n",
       "      <th>2008-12-01</th>\n",
       "      <td>84.2424</td>\n",
       "      <td>90.4378</td>\n",
       "    </tr>\n",
       "  </tbody>\n",
       "</table>\n",
       "</div>"
      ],
      "text/plain": [
       "            estadual  nacional\n",
       "mês/ano                       \n",
       "2008-01-01  208.3720  217.0125\n",
       "2008-02-01  227.0000  195.1401\n",
       "2008-03-01       NaN       NaN\n",
       "2008-04-01  141.6666  136.3181\n",
       "2008-05-01  128.8750  123.9477\n",
       "2008-06-01  132.5000  165.1045\n",
       "2008-07-01  135.3260  151.0311\n",
       "2008-08-01  159.5238  143.4250\n",
       "2008-09-01  174.7727  155.7525\n",
       "2008-10-01  167.0000  160.6862\n",
       "2008-11-01   92.2115  103.6513\n",
       "2008-12-01   84.2424   90.4378"
      ]
     },
     "execution_count": 10,
     "metadata": {},
     "output_type": "execute_result"
    }
   ],
   "source": [
    "lack.loc[lack.index.year == 2008]"
   ]
  },
  {
   "cell_type": "code",
   "execution_count": 11,
   "metadata": {},
   "outputs": [
    {
     "data": {
      "text/html": [
       "<div>\n",
       "<style scoped>\n",
       "    .dataframe tbody tr th:only-of-type {\n",
       "        vertical-align: middle;\n",
       "    }\n",
       "\n",
       "    .dataframe tbody tr th {\n",
       "        vertical-align: top;\n",
       "    }\n",
       "\n",
       "    .dataframe thead th {\n",
       "        text-align: right;\n",
       "    }\n",
       "</style>\n",
       "<table border=\"1\" class=\"dataframe\">\n",
       "  <thead>\n",
       "    <tr style=\"text-align: right;\">\n",
       "      <th></th>\n",
       "      <th>estadual</th>\n",
       "      <th>nacional</th>\n",
       "    </tr>\n",
       "    <tr>\n",
       "      <th>mês/ano</th>\n",
       "      <th></th>\n",
       "      <th></th>\n",
       "    </tr>\n",
       "  </thead>\n",
       "  <tbody>\n",
       "    <tr>\n",
       "      <th>2008-01-01</th>\n",
       "      <td>208.3720</td>\n",
       "      <td>217.0125</td>\n",
       "    </tr>\n",
       "    <tr>\n",
       "      <th>2008-02-01</th>\n",
       "      <td>227.0000</td>\n",
       "      <td>195.1401</td>\n",
       "    </tr>\n",
       "    <tr>\n",
       "      <th>2008-03-01</th>\n",
       "      <td>184.3333</td>\n",
       "      <td>165.7291</td>\n",
       "    </tr>\n",
       "    <tr>\n",
       "      <th>2008-04-01</th>\n",
       "      <td>141.6666</td>\n",
       "      <td>136.3181</td>\n",
       "    </tr>\n",
       "    <tr>\n",
       "      <th>2008-05-01</th>\n",
       "      <td>128.8750</td>\n",
       "      <td>123.9477</td>\n",
       "    </tr>\n",
       "    <tr>\n",
       "      <th>2008-06-01</th>\n",
       "      <td>132.5000</td>\n",
       "      <td>165.1045</td>\n",
       "    </tr>\n",
       "    <tr>\n",
       "      <th>2008-07-01</th>\n",
       "      <td>135.3260</td>\n",
       "      <td>151.0311</td>\n",
       "    </tr>\n",
       "    <tr>\n",
       "      <th>2008-08-01</th>\n",
       "      <td>159.5238</td>\n",
       "      <td>143.4250</td>\n",
       "    </tr>\n",
       "    <tr>\n",
       "      <th>2008-09-01</th>\n",
       "      <td>174.7727</td>\n",
       "      <td>155.7525</td>\n",
       "    </tr>\n",
       "    <tr>\n",
       "      <th>2008-10-01</th>\n",
       "      <td>167.0000</td>\n",
       "      <td>160.6862</td>\n",
       "    </tr>\n",
       "    <tr>\n",
       "      <th>2008-11-01</th>\n",
       "      <td>92.2115</td>\n",
       "      <td>103.6513</td>\n",
       "    </tr>\n",
       "    <tr>\n",
       "      <th>2008-12-01</th>\n",
       "      <td>84.2424</td>\n",
       "      <td>90.4378</td>\n",
       "    </tr>\n",
       "  </tbody>\n",
       "</table>\n",
       "</div>"
      ],
      "text/plain": [
       "            estadual  nacional\n",
       "mês/ano                       \n",
       "2008-01-01  208.3720  217.0125\n",
       "2008-02-01  227.0000  195.1401\n",
       "2008-03-01  184.3333  165.7291\n",
       "2008-04-01  141.6666  136.3181\n",
       "2008-05-01  128.8750  123.9477\n",
       "2008-06-01  132.5000  165.1045\n",
       "2008-07-01  135.3260  151.0311\n",
       "2008-08-01  159.5238  143.4250\n",
       "2008-09-01  174.7727  155.7525\n",
       "2008-10-01  167.0000  160.6862\n",
       "2008-11-01   92.2115  103.6513\n",
       "2008-12-01   84.2424   90.4378"
      ]
     },
     "execution_count": 11,
     "metadata": {},
     "output_type": "execute_result"
    }
   ],
   "source": [
    "# Preenche o missing value com interpolação\n",
    "lack = lack.interpolate(method='linear')\n",
    "lack.loc[lack.index.year == 2008]"
   ]
  },
  {
   "cell_type": "code",
   "execution_count": 14,
   "metadata": {},
   "outputs": [
    {
     "data": {
      "text/plain": [
       "<AxesSubplot:xlabel='mês/ano'>"
      ]
     },
     "execution_count": 14,
     "metadata": {},
     "output_type": "execute_result"
    },
    {
     "data": {
      "image/png": "[encoded data removed]",
      "text/plain": [
       "<Figure size 432x288 with 1 Axes>"
      ]
     },
     "metadata": {
      "needs_background": "light"
     },
     "output_type": "display_data"
    }
   ],
   "source": [
    "lack.plot()"
   ]
  },
  {
   "cell_type": "code",
   "execution_count": 13,
   "metadata": {},
   "outputs": [],
   "source": [
    "df_dados = lack"
   ]
  },
  {
   "cell_type": "markdown",
   "metadata": {},
   "source": [
    "## Salva os Dados"
   ]
  },
  {
   "cell_type": "code",
   "execution_count": 15,
   "metadata": {},
   "outputs": [],
   "source": [
    "df_dados.to_pickle('../dados/agrolink-feijao.p')"
   ]
  }
 ],
 "metadata": {
  "kernelspec": {
   "display_name": "Python 3",
   "language": "python",
   "name": "python3"
  },
  "language_info": {
   "codemirror_mode": {
    "name": "ipython",
    "version": 3
   },
   "file_extension": ".py",
   "mimetype": "text/x-python",
   "name": "python",
   "nbconvert_exporter": "python",
   "pygments_lexer": "ipython3",
   "version": "3.8.5"
  }
 },
 "nbformat": 4,
 "nbformat_minor": 4
}
