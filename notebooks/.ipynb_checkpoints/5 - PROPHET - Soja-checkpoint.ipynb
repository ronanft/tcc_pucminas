{
 "cells": [
  {
   "cell_type": "code",
   "execution_count": 1,
   "metadata": {
    "id": "q-G9i4OXSgAS"
   },
   "outputs": [],
   "source": [
    "# !pip install pystan\n",
    "# !pip install fbprophet"
   ]
  },
  {
   "cell_type": "code",
   "execution_count": 2,
   "metadata": {
    "id": "c2_p7rLSTBpo"
   },
   "outputs": [
    {
     "ename": "ModuleNotFoundError",
     "evalue": "No module named 'fbprophet'",
     "output_type": "error",
     "traceback": [
      "\u001b[1;31m---------------------------------------------------------------------------\u001b[0m",
      "\u001b[1;31mModuleNotFoundError\u001b[0m                       Traceback (most recent call last)",
      "\u001b[1;32m<ipython-input-2-365126396f99>\u001b[0m in \u001b[0;36m<module>\u001b[1;34m\u001b[0m\n\u001b[0;32m      1\u001b[0m \u001b[1;32mimport\u001b[0m \u001b[0mpandas\u001b[0m \u001b[1;32mas\u001b[0m \u001b[0mpd\u001b[0m\u001b[1;33m\u001b[0m\u001b[1;33m\u001b[0m\u001b[0m\n\u001b[1;32m----> 2\u001b[1;33m \u001b[1;32mfrom\u001b[0m \u001b[0mfbprophet\u001b[0m \u001b[1;32mimport\u001b[0m \u001b[0mProphet\u001b[0m\u001b[1;33m\u001b[0m\u001b[1;33m\u001b[0m\u001b[0m\n\u001b[0m\u001b[0;32m      3\u001b[0m \u001b[1;32mimport\u001b[0m \u001b[0mmatplotlib\u001b[0m\u001b[1;33m.\u001b[0m\u001b[0mpyplot\u001b[0m \u001b[1;32mas\u001b[0m \u001b[0mplt\u001b[0m\u001b[1;33m\u001b[0m\u001b[1;33m\u001b[0m\u001b[0m\n",
      "\u001b[1;31mModuleNotFoundError\u001b[0m: No module named 'fbprophet'"
     ]
    }
   ],
   "source": [
    "import pandas as pd\n",
    "from fbprophet import Prophet\n",
    "import matplotlib.pyplot as plt"
   ]
  },
  {
   "cell_type": "code",
   "execution_count": null,
   "metadata": {},
   "outputs": [],
   "source": [
    "dct = {}\n",
    "dct['codigo'] = 'soja'\n",
    "\n",
    "df = pd.read_pickle(f'../dados/cepea-{dct[\"codigo\"]}.p')"
   ]
  },
  {
   "cell_type": "code",
   "execution_count": null,
   "metadata": {
    "id": "xrxWV4b3SmHi"
   },
   "outputs": [],
   "source": [
    "df.index = pd.to_datetime(df.index)\n",
    "df_train = df['2007-01-01' : '2018-12-31']\n",
    "df_test = df['2019-01-01' : '2020-12-31']"
   ]
  },
  {
   "cell_type": "code",
   "execution_count": null,
   "metadata": {
    "id": "8ZA3kYlLTJ4b"
   },
   "outputs": [],
   "source": [
    "dfp = df_train.drop(columns='preco_real', axis=1)\n",
    "dfp = dfp.reset_index()\n",
    "dfp.columns=['ds','y']"
   ]
  },
  {
   "cell_type": "code",
   "execution_count": null,
   "metadata": {
    "id": "lNld2dSNX8am"
   },
   "outputs": [],
   "source": [
    "def to_fb(df):\n",
    "  df = df.drop(columns='preco_real', axis=1)\n",
    "  df = df.reset_index()\n",
    "  df.columns=['ds','y']\n",
    "  return df\n",
    "\n",
    "yreal = to_fb(df_test)\n",
    "yfb = to_fb(df_train)"
   ]
  },
  {
   "cell_type": "code",
   "execution_count": null,
   "metadata": {
    "colab": {
     "base_uri": "https://localhost:8080/"
    },
    "id": "jxr3a5w8S-RD",
    "outputId": "0dd9112e-8c83-409b-9fd7-082e325deade"
   },
   "outputs": [],
   "source": [
    "m = Prophet()\n",
    "m.fit(yfb)\n",
    "\n",
    "future = m.make_future_dataframe(periods=734)\n",
    "forecast = m.predict(future)\n",
    "fore = forecast.loc[:,['ds', 'yhat', 'yhat_lower', 'yhat_upper']]"
   ]
  },
  {
   "cell_type": "code",
   "execution_count": null,
   "metadata": {
    "colab": {
     "base_uri": "https://localhost:8080/",
     "height": 458
    },
    "id": "hH9m4pH1T04D",
    "outputId": "143951a2-52ed-4a99-a948-71b4b299c7c5"
   },
   "outputs": [],
   "source": [
    "m.plot(fore) # Azul: Previsto\n",
    "plt.plot(yreal.ds.sort_values(), yreal.y, color='r') # Vermelho: Real"
   ]
  },
  {
   "cell_type": "code",
   "execution_count": null,
   "metadata": {
    "colab": {
     "base_uri": "https://localhost:8080/",
     "height": 1000
    },
    "id": "aFGmEs8uT5dB",
    "outputId": "f0af574a-e583-4401-f75f-d22927f17466"
   },
   "outputs": [],
   "source": [
    "m.plot_components(forecast)"
   ]
  },
  {
   "cell_type": "code",
   "execution_count": null,
   "metadata": {
    "id": "VS_rmCT-TGpa"
   },
   "outputs": [],
   "source": []
  }
 ],
 "metadata": {
  "colab": {
   "collapsed_sections": [],
   "name": "5 - PROPHET - soja.ipynb",
   "provenance": []
  },
  "kernelspec": {
   "display_name": "Python 3",
   "language": "python",
   "name": "python3"
  },
  "language_info": {
   "codemirror_mode": {
    "name": "ipython",
    "version": 3
   },
   "file_extension": ".py",
   "mimetype": "text/x-python",
   "name": "python",
   "nbconvert_exporter": "python",
   "pygments_lexer": "ipython3",
   "version": "3.7.4"
  }
 },
 "nbformat": 4,
 "nbformat_minor": 1
}
