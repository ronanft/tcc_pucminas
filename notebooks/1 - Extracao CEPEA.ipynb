{
 "cells": [
  {
   "cell_type": "code",
   "execution_count": 10,
   "metadata": {},
   "outputs": [],
   "source": [
    "import io\n",
    "import requests\n",
    "import pandas as pd\n",
    "import numpy as np\n",
    "import OleFileIO_PL\n",
    "import yaml"
   ]
  },
  {
   "cell_type": "code",
   "execution_count": 15,
   "metadata": {},
   "outputs": [
    {
     "data": {
      "text/plain": [
       "{'cafe': 23, 'soja': 92, 'milho': 77, 'boi-gordo': 2}"
      ]
     },
     "execution_count": 15,
     "metadata": {},
     "output_type": "execute_result"
    }
   ],
   "source": [
    "# Load Settings\n",
    "with open(\"cepea.yaml\", 'r') as stream:\n",
    "    cepea = yaml.safe_load(stream)\n",
    "cepea"
   ]
  },
  {
   "cell_type": "markdown",
   "metadata": {},
   "source": [
    "## Importação dos dados"
   ]
  },
  {
   "cell_type": "code",
   "execution_count": 17,
   "metadata": {},
   "outputs": [
    {
     "name": "stdout",
     "output_type": "stream",
     "text": [
      "cafe\n",
      "soja\n",
      "milho\n",
      "boi-gordo\n"
     ]
    }
   ],
   "source": [
    "for k, v in cepea.items():\n",
    "\n",
    "    # Cria e seta um dicionario\n",
    "    dct = {}\n",
    "    dct[\"codigo\"] = k\n",
    "    dct[\"id\"] = v\n",
    "\n",
    "    url = f'https://www.cepea.esalq.usp.br/br/indicador/series/{dct[\"codigo\"]}.aspx?id={dct[\"id\"]}'\n",
    "    s=requests.get(url).content\n",
    "\n",
    "    # Cria e organiza o Dataframe\n",
    "    ole = OleFileIO_PL.OleFileIO(s)\n",
    "    df = pd.read_excel(ole.openstream('Workbook'), skiprows=3)\n",
    "    df = df.set_index(\"Data\")\n",
    "    df.index = df.index.rename('data')\n",
    "    df.columns = ['preco_real','preco_dolar']\n",
    "    \n",
    "    # Checa Faltantes\n",
    "    print(df.isnull().values.any())\n",
    "\n",
    "    # Limpa zerados\n",
    "    df = df[(df.T!=0).any()]\n",
    "    \n",
    "    # Salva os dados\n",
    "    df.to_pickle(f'../dados/cepea-{dct[\"codigo\"]}.p')"
   ]
  }
 ],
 "metadata": {
  "kernelspec": {
   "display_name": "Python 3",
   "language": "python",
   "name": "python3"
  },
  "language_info": {
   "codemirror_mode": {
    "name": "ipython",
    "version": 3
   },
   "file_extension": ".py",
   "mimetype": "text/x-python",
   "name": "python",
   "nbconvert_exporter": "python",
   "pygments_lexer": "ipython3",
   "version": "3.7.4"
  }
 },
 "nbformat": 4,
 "nbformat_minor": 2
}
