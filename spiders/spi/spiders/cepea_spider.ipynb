{
 "cells": [
  {
   "cell_type": "code",
   "execution_count": 1,
   "metadata": {},
   "outputs": [],
   "source": [
    "# !pip install scrapy\n",
    "# !pip install OleFileIO_PL"
   ]
  },
  {
   "cell_type": "code",
   "execution_count": 2,
   "metadata": {},
   "outputs": [],
   "source": [
    "import scrapy\n",
    "from urllib.parse import urlencode\n",
    "import ast\n",
    "import yaml\n",
    "from scrapy.crawler import CrawlerProcess\n",
    "from datetime import datetime\n",
    "import OleFileIO_PL\n",
    "import pandas as pd\n",
    "import pickle\n",
    "from datetime import datetime\n",
    "import time"
   ]
  },
  {
   "cell_type": "code",
   "execution_count": 3,
   "metadata": {},
   "outputs": [],
   "source": [
    "class CepeaSpider(scrapy.Spider):\n",
    "    \n",
    "    name = \"cepea\"\n",
    "       \n",
    "    def __new__(cls, name, cod, dt_ini = '01/01/1990', dt_fim = datetime.today().strftime('%d/%m/%Y')):\n",
    "        instance = object.__new__(cls)\n",
    "        \n",
    "        # start_urls\n",
    "        instance.params = {\n",
    "        'tabela_id' : cod,\n",
    "        'data_inicial' : dt_ini,\n",
    "        'periodicidade' : 1,\n",
    "        'data_final' : dt_fim,\n",
    "        }\n",
    "        instance.start_urls = [\n",
    "            'https://www.cepea.esalq.usp.br/br/consultas-ao-banco-de-dados-do-site.aspx?' + urlencode(instance.params),\n",
    "        ]\n",
    "        \n",
    "        # Arquivos e pastas\n",
    "        instance.folder = '../files/'\n",
    "        marca_data = datetime.today().strftime('%Y-%m-%d')\n",
    "        instance.fname = f'{name}.{marca_data}.p'\n",
    "        instance.arquivo = instance.folder + instance.fname\n",
    "        return instance\n",
    "    \n",
    "    def parse(self, response):\n",
    "        final_url = ast.literal_eval(response.text)\n",
    "        arquivo = final_url['arquivo'].replace(\"\\\\\", \"\")\n",
    "        yield scrapy.Request(\n",
    "            url = arquivo,\n",
    "            callback = self.save\n",
    "        )\n",
    "\n",
    "    def save(self, response):\n",
    "        ole = OleFileIO_PL.OleFileIO(response.body)\n",
    "        df = pd.read_excel(ole.openstream('Workbook'), skiprows=3)\n",
    "        df = df.set_index(\"Data\")\n",
    "        with open(self.arquivo, 'wb') as handle:\n",
    "            pickle.dump(df, handle)"
   ]
  },
  {
   "cell_type": "code",
   "execution_count": 4,
   "metadata": {},
   "outputs": [],
   "source": [
    "# Load Settings\n",
    "name = CepeaSpider.name\n",
    "with open(f\"{name}.yaml\", 'r') as stream:\n",
    "    config = yaml.safe_load(stream)"
   ]
  },
  {
   "cell_type": "code",
   "execution_count": 5,
   "metadata": {},
   "outputs": [],
   "source": [
    "%%capture\n",
    "\n",
    "for k, v in config.items():\n",
    "    time.sleep(5)\n",
    "    process = CrawlerProcess({\n",
    "        'USER_AGENT': 'Mozilla/5.0 (compatible; MSIE 7.0; Windows NT 5.0)'\n",
    "    })\n",
    "    process.crawl(CepeaSpider, name=k, cod=v)\n",
    "\n",
    "process.start()"
   ]
  }
 ],
 "metadata": {
  "kernelspec": {
   "display_name": "Python 3",
   "language": "python",
   "name": "python3"
  },
  "language_info": {
   "codemirror_mode": {
    "name": "ipython",
    "version": 3
   },
   "file_extension": ".py",
   "mimetype": "text/x-python",
   "name": "python",
   "nbconvert_exporter": "python",
   "pygments_lexer": "ipython3",
   "version": "3.7.4"
  }
 },
 "nbformat": 4,
 "nbformat_minor": 2
}
